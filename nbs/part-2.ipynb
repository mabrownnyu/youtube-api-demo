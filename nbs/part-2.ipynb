{
 "cells": [
  {
   "cell_type": "markdown",
   "metadata": {
    "slideshow": {
     "slide_type": "slide"
    }
   },
   "source": [
    "# Recipies for Success\n",
    "[Pt I]\n",
    "Common workflows...\n",
    "1. Exhaustive search\n",
    "2. Collecting text data"
   ]
  },
  {
   "cell_type": "code",
   "execution_count": 1,
   "metadata": {
    "slideshow": {
     "slide_type": "slide"
    }
   },
   "outputs": [],
   "source": [
    "import os\n",
    "import datetime\n",
    "from dateutil.relativedelta import relativedelta\n",
    "from tqdm import tqdm\n",
    "import pandas as pd\n",
    "from youtube_api import YoutubeDataApi"
   ]
  },
  {
   "cell_type": "code",
   "execution_count": 4,
   "metadata": {
    "slideshow": {
     "slide_type": "-"
    }
   },
   "outputs": [],
   "source": [
    "api_key = os.environ.get('YT_KEY') # this is an environment variable for me, change this\n",
    "yt = YoutubeDataApi(api_key)"
   ]
  },
  {
   "cell_type": "markdown",
   "metadata": {
    "slideshow": {
     "slide_type": "slide"
    }
   },
   "source": [
    "## Exhaustive Search\n",
    "Search only returns up ~600 results per API call. By splitting the search by month (or week/day) you can get an exhaustive historical search."
   ]
  },
  {
   "cell_type": "code",
   "execution_count": 3,
   "metadata": {},
   "outputs": [
    {
     "name": "stdout",
     "output_type": "stream",
     "text": [
      "social justice|sjw\n"
     ]
    }
   ],
   "source": [
    "search_terms = ['social justice', 'sjw']\n",
    "search = '|'.join(search_terms)\n",
    "print(search)"
   ]
  },
  {
   "cell_type": "code",
   "execution_count": 5,
   "metadata": {
    "slideshow": {
     "slide_type": "slide"
    }
   },
   "outputs": [
    {
     "name": "stderr",
     "output_type": "stream",
     "text": [
      "100%|██████████| 2/2 [01:02<00:00, 31.09s/it]\n"
     ]
    }
   ],
   "source": [
    "results = []\n",
    "start_year, end_year = 2017, 2018\n",
    "for year in tqdm(range(start_year, end_year + 1)):\n",
    "    for month in range(1, 12 + 1):\n",
    "        start_of_month = datetime.datetime(year, month, 1)\n",
    "        end_of_month = start_of_month + relativedelta(months=+1, minutes=-1)\n",
    "        \n",
    "        _results = yt.search(q=search, \n",
    "                             order_by='date',\n",
    "                             published_after=start_of_month,\n",
    "                             published_before=end_of_month,\n",
    "                             max_results=None,\n",
    "                             verbose=1)\n",
    "        results.extend(_results)\n",
    "\n",
    "# fetch the full metadata \n",
    "videos_to_fetch = pd.DataFrame(results).video_id\n",
    "video_metadata = yt.get_video_metadata(videos_to_fetch)"
   ]
  },
  {
   "cell_type": "code",
   "execution_count": 6,
   "metadata": {
    "slideshow": {
     "slide_type": "slide"
    }
   },
   "outputs": [
    {
     "name": "stdout",
     "output_type": "stream",
     "text": [
      "6038\n"
     ]
    },
    {
     "data": {
      "text/html": [
       "<div>\n",
       "<style scoped>\n",
       "    .dataframe tbody tr th:only-of-type {\n",
       "        vertical-align: middle;\n",
       "    }\n",
       "\n",
       "    .dataframe tbody tr th {\n",
       "        vertical-align: top;\n",
       "    }\n",
       "\n",
       "    .dataframe thead th {\n",
       "        text-align: right;\n",
       "    }\n",
       "</style>\n",
       "<table border=\"1\" class=\"dataframe\">\n",
       "  <thead>\n",
       "    <tr style=\"text-align: right;\">\n",
       "      <th></th>\n",
       "      <th>video_id</th>\n",
       "      <th>channel_title</th>\n",
       "      <th>channel_id</th>\n",
       "      <th>video_publish_date</th>\n",
       "      <th>video_title</th>\n",
       "      <th>video_description</th>\n",
       "      <th>video_category</th>\n",
       "      <th>video_view_count</th>\n",
       "      <th>video_comment_count</th>\n",
       "      <th>video_like_count</th>\n",
       "      <th>video_dislike_count</th>\n",
       "      <th>video_thumbnail</th>\n",
       "      <th>video_tags</th>\n",
       "      <th>collection_date</th>\n",
       "    </tr>\n",
       "  </thead>\n",
       "  <tbody>\n",
       "    <tr>\n",
       "      <th>0</th>\n",
       "      <td>YQ-3ETgDedw</td>\n",
       "      <td>Matt Daschke</td>\n",
       "      <td>UCg60uCkv8WpFr9HsNSaOcmA</td>\n",
       "      <td>2017-01-31 22:41:10</td>\n",
       "      <td>SJW Protest at CMU interrupted by patriot.</td>\n",
       "      <td>I got wind of people protesting on campus, dec...</td>\n",
       "      <td>22</td>\n",
       "      <td>65</td>\n",
       "      <td>3</td>\n",
       "      <td>3</td>\n",
       "      <td>0</td>\n",
       "      <td>https://i.ytimg.com/vi/YQ-3ETgDedw/hqdefault.jpg</td>\n",
       "      <td>Merica|SJW|Owned|Trump</td>\n",
       "      <td>2018-10-09 13:28:47.455672</td>\n",
       "    </tr>\n",
       "    <tr>\n",
       "      <th>1</th>\n",
       "      <td>eK171oGARwc</td>\n",
       "      <td>Bernard Chapin</td>\n",
       "      <td>UCr3qf3JVwW_41j4LUQZtu9Q</td>\n",
       "      <td>2017-01-31 22:23:47</td>\n",
       "      <td>Tears 4 Social Justice</td>\n",
       "      <td>SUBSCRIBE! Do me a solid!\\nLINKs HERE: \\nhttp:...</td>\n",
       "      <td>25</td>\n",
       "      <td>481</td>\n",
       "      <td>17</td>\n",
       "      <td>60</td>\n",
       "      <td>1</td>\n",
       "      <td>https://i.ytimg.com/vi/eK171oGARwc/hqdefault.jpg</td>\n",
       "      <td>news|politics</td>\n",
       "      <td>2018-10-09 13:28:47.455762</td>\n",
       "    </tr>\n",
       "  </tbody>\n",
       "</table>\n",
       "</div>"
      ],
      "text/plain": [
       "      video_id   channel_title                channel_id  video_publish_date  \\\n",
       "0  YQ-3ETgDedw    Matt Daschke  UCg60uCkv8WpFr9HsNSaOcmA 2017-01-31 22:41:10   \n",
       "1  eK171oGARwc  Bernard Chapin  UCr3qf3JVwW_41j4LUQZtu9Q 2017-01-31 22:23:47   \n",
       "\n",
       "                                  video_title  \\\n",
       "0  SJW Protest at CMU interrupted by patriot.   \n",
       "1                      Tears 4 Social Justice   \n",
       "\n",
       "                                   video_description video_category  \\\n",
       "0  I got wind of people protesting on campus, dec...             22   \n",
       "1  SUBSCRIBE! Do me a solid!\\nLINKs HERE: \\nhttp:...             25   \n",
       "\n",
       "  video_view_count video_comment_count video_like_count video_dislike_count  \\\n",
       "0               65                   3                3                   0   \n",
       "1              481                  17               60                   1   \n",
       "\n",
       "                                    video_thumbnail              video_tags  \\\n",
       "0  https://i.ytimg.com/vi/YQ-3ETgDedw/hqdefault.jpg  Merica|SJW|Owned|Trump   \n",
       "1  https://i.ytimg.com/vi/eK171oGARwc/hqdefault.jpg           news|politics   \n",
       "\n",
       "             collection_date  \n",
       "0 2018-10-09 13:28:47.455672  \n",
       "1 2018-10-09 13:28:47.455762  "
      ]
     },
     "execution_count": 6,
     "metadata": {},
     "output_type": "execute_result"
    }
   ],
   "source": [
    "df_video_meta = pd.DataFrame(video_metadata)\n",
    "print(len(df_video_meta))\n",
    "df_video_meta.head(2)"
   ]
  },
  {
   "cell_type": "code",
   "execution_count": null,
   "metadata": {
    "slideshow": {
     "slide_type": "-"
    }
   },
   "outputs": [],
   "source": [
    "df_video_meta.to_csv('data/some_file.csv', index=False)"
   ]
  },
  {
   "cell_type": "code",
   "execution_count": 10,
   "metadata": {
    "slideshow": {
     "slide_type": "skip"
    }
   },
   "outputs": [],
   "source": [
    "%matplotlib inline\n",
    "import matplotlib.pyplot as plt"
   ]
  },
  {
   "cell_type": "code",
   "execution_count": 80,
   "metadata": {
    "slideshow": {
     "slide_type": "skip"
    }
   },
   "outputs": [],
   "source": [
    "def plot_top_channels(df, top=30):\n",
    "    fig = plt.figure(figsize=(6, 12))\n",
    "    ax1 = fig.add_subplot(111)\n",
    "    df.channel_title.value_counts().head(top).iloc[::-1].plot(\n",
    "        kind='barh', color='C0', \n",
    "        title=f'Top Channels Posting about {search_terms[0]}')\n",
    "    ax1.spines['top'].set_visible(False)\n",
    "    ax1.spines['right'].set_visible(False);\n",
    "    plt.show()"
   ]
  },
  {
   "cell_type": "code",
   "execution_count": 81,
   "metadata": {
    "slideshow": {
     "slide_type": "slide"
    }
   },
   "outputs": [
    {
     "data": {
      "image/png": "[encoded data removed]",
      "text/plain": [
       "<Figure size 432x864 with 1 Axes>"
      ]
     },
     "metadata": {},
     "output_type": "display_data"
    }
   ],
   "source": [
    "plot_top_channels(df_video_meta)"
   ]
  },
  {
   "cell_type": "markdown",
   "metadata": {
    "slideshow": {
     "slide_type": "slide"
    }
   },
   "source": [
    "## Text Data\n",
    "1. Captions\n",
    "2. Comments"
   ]
  },
  {
   "cell_type": "markdown",
   "metadata": {
    "slideshow": {
     "slide_type": "slide"
    }
   },
   "source": [
    "## Downloading Captions\n",
    "Let's use two videos from the results above."
   ]
  },
  {
   "cell_type": "code",
   "execution_count": 79,
   "metadata": {
    "slideshow": {
     "slide_type": "-"
    }
   },
   "outputs": [
    {
     "data": {
      "text/plain": [
       "0    YQ-3ETgDedw\n",
       "1    eK171oGARwc\n",
       "Name: video_id, dtype: object"
      ]
     },
     "execution_count": 79,
     "metadata": {},
     "output_type": "execute_result"
    }
   ],
   "source": [
    "video_ids = df_video_meta.video_id.head(2)\n",
    "video_ids"
   ]
  },
  {
   "cell_type": "markdown",
   "metadata": {
    "slideshow": {
     "slide_type": "slide"
    }
   },
   "source": [
    "### Some things about captions:\n",
    "1. Typically generated by YouTube\n",
    "   - There is typically no punkt for this.\n",
    "   - Also has [Music] and [Applause] placeholders\n",
    "2. Or can be uploaded by Content Creator"
   ]
  },
  {
   "cell_type": "code",
   "execution_count": 72,
   "metadata": {
    "slideshow": {
     "slide_type": "slide"
    }
   },
   "outputs": [
    {
     "name": "stderr",
     "output_type": "stream",
     "text": [
      "100%|██████████| 2/2 [00:02<00:00,  1.19s/it]\n"
     ]
    },
    {
     "data": {
      "text/plain": [
       "\"so I just heard from a buddy of mine I just heard from a buddy in mind that there are kids or people i should say protesting the executive order that President Trump just issued a couple days ago so I'm gonna see what they're doing instead of being in class I'm going to go try to stir some stuff up so I'm here the right around the corner I think they're coming this way I see a podium and see what they have just complain about now so they're right in front of me I'm kind of catch up to them right now so the chase is on I'm going to try to cut them off to the library and everyone goes into surgery [Music] [Music] Robin when we don't know what we're talking about and we leave election and they'll get our way that's what happened [Applause] this is what happens no no honey not yeah we're back up a little bit this side this is what happened ha ha ha ha I'm hell okay I don't get it I don't do that at all nothing's happened they want us in countries that Obama Bama races they want the races are just restoring the country is doesn't erase it always a right we placed democracy in our own life before somebody else here we are following the protesters trying to define executive below for your no ain't no war racist go home utterly saw an executive order trying to secure that the sense of our borders of our country or our air force against radical Islamic terrorism somehow races I think it's more of a security since [Applause] no hay hauling people's races between exactly does really live next then but we'll see you try to stir things up later on here we go everyone Iraq to live up to be here we're going to turn that laughing right now not come back yes yes how loud it we're a greater voice identical memo my uncle where's it overseas Iraq right now Army's your talent has to be working right the money we cannot remember I definitely never wife you know hey guys are people detective before tonight why he was the case why do you ask over to rest upon that are the United States an executive order [Music] [Applause] a war hero anything less than it is for somehow they're not going to process any process allowed to progress we will be examining I really understand it all being described you think oh there's one of them there's another one mug truncate and get there shouting profanity I don't really understand it I want it kind of hard having daddy's and food stories I love it normal let them in changing profanity and yeah I'm just walking by a viewer recording them and I get to go fuck off its glorious store is glorious and just like that it's over you would think with so much passion and wanting for democracy they'd be going all day long but that's not let's just amiga into Washington\""
      ]
     },
     "execution_count": 72,
     "metadata": {},
     "output_type": "execute_result"
    }
   ],
   "source": [
    "captions = []\n",
    "for _video_id in tqdm(video_ids):\n",
    "    _captions = yt.get_captions(_video_id)\n",
    "    captions.append(_captions)\n",
    "captions[0].get('caption')"
   ]
  },
  {
   "cell_type": "markdown",
   "metadata": {
    "slideshow": {
     "slide_type": "slide"
    }
   },
   "source": [
    "# Downloading Comments"
   ]
  },
  {
   "cell_type": "code",
   "execution_count": 77,
   "metadata": {},
   "outputs": [
    {
     "name": "stderr",
     "output_type": "stream",
     "text": [
      "100%|██████████| 2/2 [00:00<00:00,  2.12it/s]\n"
     ]
    },
    {
     "data": {
      "text/plain": [
       "\"Does that make John McCain and Lindsay Graham SJW's?\""
      ]
     },
     "execution_count": 77,
     "metadata": {},
     "output_type": "execute_result"
    }
   ],
   "source": [
    "comments = []\n",
    "for _video_id in tqdm(video_ids):\n",
    "    _comments = yt.get_video_comments(_video_id)\n",
    "    comments.extend(_comments)\n",
    "comments[0].get('text')"
   ]
  },
  {
   "cell_type": "code",
   "execution_count": 78,
   "metadata": {
    "slideshow": {
     "slide_type": "slide"
    }
   },
   "outputs": [
    {
     "data": {
      "text/html": [
       "<div>\n",
       "<style scoped>\n",
       "    .dataframe tbody tr th:only-of-type {\n",
       "        vertical-align: middle;\n",
       "    }\n",
       "\n",
       "    .dataframe tbody tr th {\n",
       "        vertical-align: top;\n",
       "    }\n",
       "\n",
       "    .dataframe thead th {\n",
       "        text-align: right;\n",
       "    }\n",
       "</style>\n",
       "<table border=\"1\" class=\"dataframe\">\n",
       "  <thead>\n",
       "    <tr style=\"text-align: right;\">\n",
       "      <th></th>\n",
       "      <th>video_id</th>\n",
       "      <th>commenter_channel_url</th>\n",
       "      <th>commenter_channel_id</th>\n",
       "      <th>commenter_channel_display_name</th>\n",
       "      <th>comment_id</th>\n",
       "      <th>comment_like_count</th>\n",
       "      <th>comment_publish_date</th>\n",
       "      <th>text</th>\n",
       "      <th>commenter_rating</th>\n",
       "      <th>comment_parent_id</th>\n",
       "      <th>collection_date</th>\n",
       "      <th>reply_count</th>\n",
       "    </tr>\n",
       "  </thead>\n",
       "  <tbody>\n",
       "    <tr>\n",
       "      <th>0</th>\n",
       "      <td>YQ-3ETgDedw</td>\n",
       "      <td>http://www.youtube.com/channel/UCcTGRGrjd2UeRb...</td>\n",
       "      <td>UCcTGRGrjd2UeRbi_iENO4KA</td>\n",
       "      <td>Daniel Neill</td>\n",
       "      <td>UggucXPIkUn1uXgCoAEC</td>\n",
       "      <td>0</td>\n",
       "      <td>2017-02-01 09:49:28</td>\n",
       "      <td>Does that make John McCain and Lindsay Graham ...</td>\n",
       "      <td>none</td>\n",
       "      <td>None</td>\n",
       "      <td>2018-10-09 13:58:43.354010</td>\n",
       "      <td>0.0</td>\n",
       "    </tr>\n",
       "    <tr>\n",
       "      <th>1</th>\n",
       "      <td>YQ-3ETgDedw</td>\n",
       "      <td>http://www.youtube.com/channel/UCP-rVYjDXUn0av...</td>\n",
       "      <td>UCP-rVYjDXUn0av-JcPtuRDQ</td>\n",
       "      <td>Anonymous Patriots</td>\n",
       "      <td>UgglvFUjoB1OyHgCoAEC</td>\n",
       "      <td>0</td>\n",
       "      <td>2017-02-01 06:44:42</td>\n",
       "      <td>they let them in.</td>\n",
       "      <td>none</td>\n",
       "      <td>None</td>\n",
       "      <td>2018-10-09 13:58:43.354091</td>\n",
       "      <td>0.0</td>\n",
       "    </tr>\n",
       "  </tbody>\n",
       "</table>\n",
       "</div>"
      ],
      "text/plain": [
       "      video_id                              commenter_channel_url  \\\n",
       "0  YQ-3ETgDedw  http://www.youtube.com/channel/UCcTGRGrjd2UeRb...   \n",
       "1  YQ-3ETgDedw  http://www.youtube.com/channel/UCP-rVYjDXUn0av...   \n",
       "\n",
       "       commenter_channel_id commenter_channel_display_name  \\\n",
       "0  UCcTGRGrjd2UeRbi_iENO4KA                   Daniel Neill   \n",
       "1  UCP-rVYjDXUn0av-JcPtuRDQ             Anonymous Patriots   \n",
       "\n",
       "             comment_id  comment_like_count comment_publish_date  \\\n",
       "0  UggucXPIkUn1uXgCoAEC                   0  2017-02-01 09:49:28   \n",
       "1  UgglvFUjoB1OyHgCoAEC                   0  2017-02-01 06:44:42   \n",
       "\n",
       "                                                text commenter_rating  \\\n",
       "0  Does that make John McCain and Lindsay Graham ...             none   \n",
       "1                                  they let them in.             none   \n",
       "\n",
       "  comment_parent_id            collection_date  reply_count  \n",
       "0              None 2018-10-09 13:58:43.354010          0.0  \n",
       "1              None 2018-10-09 13:58:43.354091          0.0  "
      ]
     },
     "execution_count": 78,
     "metadata": {},
     "output_type": "execute_result"
    }
   ],
   "source": [
    "df_comments = pd.DataFrame(comments)\n",
    "df_comments.head(2)"
   ]
  },
  {
   "cell_type": "markdown",
   "metadata": {
    "slideshow": {
     "slide_type": "slide"
    }
   },
   "source": [
    "## Final Remarks\n",
    "If you have an problem, post an [issue](https://github.com/SMAPPNYU/youtube-data-api/issues/new) on GitHub with the error.\n",
    "\n",
    "If you want to be a contributor or learn about open source, talk to me!\n",
    "\n",
    "These examples will be moved over to the [ReadTheDocs](https://youtube-data-api.readthedocs.io/en/latest/index.html) website!"
   ]
  }
 ],
 "metadata": {
  "celltoolbar": "Slideshow",
  "kernelspec": {
   "display_name": "Python 3",
   "language": "python",
   "name": "python3"
  },
  "language_info": {
   "codemirror_mode": {
    "name": "ipython",
    "version": 3
   },
   "file_extension": ".py",
   "mimetype": "text/x-python",
   "name": "python",
   "nbconvert_exporter": "python",
   "pygments_lexer": "ipython3",
   "version": "3.6.1"
  }
 },
 "nbformat": 4,
 "nbformat_minor": 2
}
