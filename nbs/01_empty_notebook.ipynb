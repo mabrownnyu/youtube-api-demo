{
 "cells": [
  {
   "cell_type": "markdown",
   "metadata": {
    "slideshow": {
     "slide_type": "slide"
    }
   },
   "source": [
    "# How to use the Youtube Data API: YoutubeDataApi\n",
    "[Here is a placeholder to links where this stuff will live]()<br>\n",
    "\n",
    "Authors: Megan Brown & Leon Yin <br>\n",
    "Presented on: 2018/10/09\n",
    "<hr>\n",
    "\n",
    "## Agenda\n",
    "Today we will discuss:\n",
    "\n",
    "1. A brief overview of data available in the YouTube Data API\n",
    "2. How to install the package\n",
    "3. How to create an API key\n",
    "4. A brief look at how to use the package\n",
    "5. A cool example that I have yet to come up with\n",
    "\n",
    "Necessary packages for this tutorial are in `requirements.txt`\n",
    "```\n",
    "pip install -r requirements.txt\n",
    "```\n"
   ]
  },
  {
   "cell_type": "markdown",
   "metadata": {
    "slideshow": {
     "slide_type": "slide"
    }
   },
   "source": [
    "# FAQs\n",
    "\n",
    "### So what kind of data can you get?\n",
    "\n",
    "* Short answer: a lot\n",
    "\n",
    "* Comprehensive answer: [here](https://developers.google.com/youtube/v3/docs/)\n",
    "\n",
    "* What is included in the package:\n",
    "    * video metadata\n",
    "    * channel metadata\n",
    "    * playlist metadata\n",
    "    * subscription metadata\n",
    "    * featured channel metadata\n",
    "    * comment metadata\n",
    "    * captions metadata\n",
    "    * search results\n",
    "    * recommended video results\n",
    "\n",
    "### What is the difference between a user and a channel?\n",
    "* Essentially: how YouTube stores the data internally.<br>\n",
    "* A user is the name that a content creator registers (ex: **LastWeekTonight**). You cannot use this value to get more information from a user.<br>\n",
    "* The channel id is the internal ID for a given user (ex: **UC3XTzVzaHQEd30rQbuvCtTQ**). You can use this value to get more data about a channel. <br>\n",
    "\n",
    "###### But fear not, there is a solution!\n",
    "Use `yt.get_channel_id_from_user(username)` to get the channel id for a given user."
   ]
  },
  {
   "cell_type": "markdown",
   "metadata": {
    "slideshow": {
     "slide_type": "slide"
    }
   },
   "source": [
    "## How to Install\n",
    "\n",
    "   The software is on PyPI, so you can download it via `pip`\n",
    "   \n",
    "   \n",
    "   `pip install youtube-data-api`"
   ]
  },
  {
   "cell_type": "markdown",
   "metadata": {
    "slideshow": {
     "slide_type": "slide"
    }
   },
   "source": [
    "## How to get an API key\n",
    "\n",
    "### A quick guide: https://developers.google.com/youtube/v3/getting-started\n",
    "\n",
    "1. You need a Google Account to access the Google API Console, request an API key, and register your application. You already have this as an NYU student/affiliate.\n",
    "\n",
    "2. Create a project in the <a href=\"https://console.developers.google.com/apis/\">Google Developers Console</a> and <a href=\"https://developers.google.com/youtube/registering_an_application\">obtain authorization credentials</a> so your application can submit API requests.\n",
    "\n",
    "3. After creating your project, make sure the YouTube Data API is one of the services that your application is registered to use.\n",
    "\n",
    "    a. Go to the <a href=\"https://console.developers.google.com/apis/\">API Console</a> and select the project that you just registered.\n",
    "\n",
    "    b. Visit the <a href=\"https://console.developers.google.com/apis/enabled\">Enabled APIs page</a>. In the list of APIs, make sure the status is ON for the YouTube Data API v3. You do not need to enable OAuth 2.0 since ther are no methods in the package that require it."
   ]
  },
  {
   "cell_type": "code",
   "execution_count": 2,
   "metadata": {
    "slideshow": {
     "slide_type": "skip"
    }
   },
   "outputs": [
    {
     "data": {
      "text/html": [
       "<iframe width=\"560\" height=\"315\" src=\"https://www.youtube.com/embed/pP4zvduVAqo\" frameborder=\"0\"allow=\"autoplay; encrypted-media\" allowfullscreen></iframe>"
      ],
      "text/plain": [
       "<IPython.core.display.HTML object>"
      ]
     },
     "execution_count": 2,
     "metadata": {},
     "output_type": "execute_result"
    }
   ],
   "source": [
    "from IPython.display import *\n",
    "\n",
    "HTML('<iframe width=\"560\" height=\"315\" src=\"https://www.youtube.com/embed/pP4zvduVAqo\" frameborder=\"0\"'\n",
    "     'allow=\"autoplay; encrypted-media\" allowfullscreen></iframe>')"
   ]
  },
  {
   "cell_type": "markdown",
   "metadata": {
    "slideshow": {
     "slide_type": "slide"
    }
   },
   "source": [
    "## A brief overview of how to use the package"
   ]
  },
  {
   "cell_type": "code",
   "execution_count": 26,
   "metadata": {
    "slideshow": {
     "slide_type": "skip"
    }
   },
   "outputs": [],
   "source": [
    "import os"
   ]
  },
  {
   "cell_type": "code",
   "execution_count": 31,
   "metadata": {
    "slideshow": {
     "slide_type": "fragment"
    }
   },
   "outputs": [],
   "source": [
    "from youtube_api import YoutubeDataApi\n",
    "from youtube_api.youtube_api_utils import *\n",
    "\n",
    "yt = YoutubeDataApi(os.environ.get('YT_KEY'))"
   ]
  },
  {
   "cell_type": "markdown",
   "metadata": {
    "slideshow": {
     "slide_type": "slide"
    }
   },
   "source": [
    "### Starting with a channel name and getting some basic metadata"
   ]
  },
  {
   "cell_type": "code",
   "execution_count": 29,
   "metadata": {
    "slideshow": {
     "slide_type": "fragment"
    }
   },
   "outputs": [
    {
     "name": "stdout",
     "output_type": "stream",
     "text": [
      "UC3XTzVzaHQEd30rQbuvCtTQ\n"
     ]
    }
   ],
   "source": [
    "channel_id = yt.get_channel_id_from_user('LastWeekTonight')\n",
    "print(channel_id)"
   ]
  },
  {
   "cell_type": "markdown",
   "metadata": {
    "slideshow": {
     "slide_type": "fragment"
    }
   },
   "source": [
    "You can get more information from this channel_id"
   ]
  },
  {
   "cell_type": "code",
   "execution_count": 33,
   "metadata": {
    "slideshow": {
     "slide_type": "fragment"
    }
   },
   "outputs": [
    {
     "name": "stdout",
     "output_type": "stream",
     "text": [
      "UU3XTzVzaHQEd30rQbuvCtTQ\n"
     ]
    }
   ],
   "source": [
    "uploads_playlist = get_upload_playlist_id(channel_id)\n",
    "print(uploads_playlist)"
   ]
  },
  {
   "cell_type": "code",
   "execution_count": null,
   "metadata": {},
   "outputs": [],
   "source": []
  }
 ],
 "metadata": {
  "celltoolbar": "Slideshow",
  "kernelspec": {
   "display_name": "Python 3",
   "language": "python",
   "name": "python3"
  },
  "language_info": {
   "codemirror_mode": {
    "name": "ipython",
    "version": 3
   },
   "file_extension": ".py",
   "mimetype": "text/x-python",
   "name": "python",
   "nbconvert_exporter": "python",
   "pygments_lexer": "ipython3",
   "version": "3.6.5"
  }
 },
 "nbformat": 4,
 "nbformat_minor": 2
}
