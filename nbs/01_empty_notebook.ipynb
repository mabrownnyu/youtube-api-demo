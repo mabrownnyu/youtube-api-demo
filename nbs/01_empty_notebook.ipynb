{
 "cells": [
  {
   "cell_type": "markdown",
   "metadata": {
    "slideshow": {
     "slide_type": "slide"
    }
   },
   "source": [
    "# How to use the Youtube Data API: YoutubeDataApi\n",
    "[Here is a placeholder to links where this stuff will live]()<br>\n",
    "\n",
    "Authors: Megan Brown & Leon Yin <br>\n",
    "Presented on: 2018/10/09\n",
    "<hr>\n",
    "\n",
    "## Agenda\n",
    "Today we will discuss:\n",
    "\n",
    "1. A brief overview of data available in the YouTube Data API\n",
    "2. How to install the package\n",
    "3. How to create an API key\n",
    "4. A brief look at how to use the package\n",
    "5. A cool example that I have yet to come up with\n",
    "\n",
    "Necessary packages for this tutorial are in `requirements.txt`\n",
    "```\n",
    "pip install -r requirements.txt\n",
    "```\n"
   ]
  },
  {
   "cell_type": "markdown",
   "metadata": {
    "slideshow": {
     "slide_type": "slide"
    }
   },
   "source": [
    "# FAQs\n",
    "\n",
    "### So what kind of data can you get?\n",
    "\n",
    "* Short answer: a lot\n",
    "\n",
    "* Comprehensive answer: [here](https://developers.google.com/youtube/v3/docs/)\n",
    "\n",
    "* What is included in the package:\n",
    "    * video metadata\n",
    "    * channel metadata\n",
    "    * playlist metadata\n",
    "    * subscription metadata\n",
    "    * featured channel metadata\n",
    "    * comment metadata\n",
    "    * captions metadata\n",
    "    * search results\n",
    "    * recommended video results\n",
    "\n",
    "### What is the difference between a user and a channel?\n",
    "* Essentially: how YouTube stores the data internally.<br>\n",
    "* A user is the name that a content creator registers (ex: **LastWeekTonight**). You cannot use this value to get more information from a user.<br>\n",
    "* The channel id is the internal ID for a given user (ex: **UC3XTzVzaHQEd30rQbuvCtTQ**). You can use this value to get more data about a channel. <br>\n",
    "\n",
    "###### But fear not, there is a solution!\n",
    "Use `yt.get_channel_id_from_user(username)` to get the channel id for a given user.\n",
    "\n",
    "### What is the difference between a featured channel and a subscription?\n",
    "* A subscription is a channel that a user opts into getting updates for\n",
    "* A featured channel is a feature a channel can use to direct their viewers towards other channels"
   ]
  },
  {
   "cell_type": "markdown",
   "metadata": {
    "slideshow": {
     "slide_type": "slide"
    }
   },
   "source": [
    "## How to Install\n",
    "\n",
    "   The software is on PyPI, so you can download it via `pip`\n",
    "   \n",
    "   \n",
    "   `pip install youtube-data-api`"
   ]
  },
  {
   "cell_type": "markdown",
   "metadata": {
    "slideshow": {
     "slide_type": "slide"
    }
   },
   "source": [
    "## How to get an API key\n",
    "\n",
    "### A quick guide: https://developers.google.com/youtube/v3/getting-started\n",
    "\n",
    "1. You need a Google Account to access the Google API Console, request an API key, and register your application. You already have this as an NYU student/affiliate.\n",
    "\n",
    "2. Create a project in the <a href=\"https://console.developers.google.com/apis/\">Google Developers Console</a> and <a href=\"https://developers.google.com/youtube/registering_an_application\">obtain authorization credentials</a> so your application can submit API requests.\n",
    "\n",
    "3. After creating your project, make sure the YouTube Data API is one of the services that your application is registered to use.\n",
    "\n",
    "    a. Go to the <a href=\"https://console.developers.google.com/apis/\">API Console</a> and select the project that you just registered.\n",
    "\n",
    "    b. Visit the <a href=\"https://console.developers.google.com/apis/enabled\">Enabled APIs page</a>. In the list of APIs, make sure the status is ON for the YouTube Data API v3. You do not need to enable OAuth 2.0 since ther are no methods in the package that require it."
   ]
  },
  {
   "cell_type": "markdown",
   "metadata": {
    "slideshow": {
     "slide_type": "slide"
    }
   },
   "source": [
    "## A brief overview of how to use the package"
   ]
  },
  {
   "cell_type": "code",
   "execution_count": 36,
   "metadata": {
    "slideshow": {
     "slide_type": "skip"
    }
   },
   "outputs": [],
   "source": [
    "import os\n",
    "import datetime"
   ]
  },
  {
   "cell_type": "code",
   "execution_count": 31,
   "metadata": {
    "slideshow": {
     "slide_type": "fragment"
    }
   },
   "outputs": [],
   "source": [
    "from youtube_api import YoutubeDataApi\n",
    "from youtube_api.youtube_api_utils import *\n",
    "\n",
    "yt = YoutubeDataApi(os.environ.get('YT_KEY'))"
   ]
  },
  {
   "cell_type": "markdown",
   "metadata": {
    "slideshow": {
     "slide_type": "slide"
    }
   },
   "source": [
    "### Starting with a channel name and getting some basic metadata"
   ]
  },
  {
   "cell_type": "code",
   "execution_count": 29,
   "metadata": {
    "slideshow": {
     "slide_type": "fragment"
    }
   },
   "outputs": [
    {
     "name": "stdout",
     "output_type": "stream",
     "text": [
      "UC3XTzVzaHQEd30rQbuvCtTQ\n"
     ]
    }
   ],
   "source": [
    "channel_id = yt.get_channel_id_from_user('LastWeekTonight')\n",
    "print(channel_id)"
   ]
  },
  {
   "cell_type": "markdown",
   "metadata": {
    "slideshow": {
     "slide_type": "fragment"
    }
   },
   "source": [
    "You can get more information from this `channel_id`"
   ]
  },
  {
   "cell_type": "code",
   "execution_count": 35,
   "metadata": {},
   "outputs": [
    {
     "data": {
      "text/plain": [
       "OrderedDict([('channel_id', 'UC3XTzVzaHQEd30rQbuvCtTQ'),\n",
       "             ('title', 'LastWeekTonight'),\n",
       "             ('account_creation_date',\n",
       "              datetime.datetime(2014, 3, 18, 17, 41, 39)),\n",
       "             ('keywords', None),\n",
       "             ('description',\n",
       "              'Breaking news on a weekly basis. Sundays at 11PM - only on HBO.\\nSubscribe to the Last Week Tonight channel for the latest videos from John Oliver and the LWT team.'),\n",
       "             ('view_count', '1712963061'),\n",
       "             ('video_count', '252'),\n",
       "             ('subscription_count', '6471835'),\n",
       "             ('playlist_id_likes', 'LL3XTzVzaHQEd30rQbuvCtTQ'),\n",
       "             ('playlist_id_uploads', 'UU3XTzVzaHQEd30rQbuvCtTQ'),\n",
       "             ('topic_ids',\n",
       "              'https://en.wikipedia.org/wiki/Entertainment|https://en.wikipedia.org/wiki/Television_program|https://en.wikipedia.org/wiki/Humour'),\n",
       "             ('country', None),\n",
       "             ('collection_date',\n",
       "              datetime.datetime(2018, 10, 8, 11, 51, 41, 170828))])"
      ]
     },
     "execution_count": 35,
     "metadata": {},
     "output_type": "execute_result"
    }
   ],
   "source": [
    "yt.get_channel_metadata(channel_id)"
   ]
  },
  {
   "cell_type": "code",
   "execution_count": 39,
   "metadata": {
    "scrolled": true
   },
   "outputs": [
    {
     "data": {
      "text/plain": [
       "[OrderedDict([('subscription_title', 'HBOBoxing'),\n",
       "              ('subscription_channel_id', 'UCWPQB43yGKEum3eW0P9N_nQ'),\n",
       "              ('subscription_kind', 'youtube#channel'),\n",
       "              ('subscription_publish_date',\n",
       "               datetime.datetime(2014, 3, 20, 19, 5, 54)),\n",
       "              ('collection_date',\n",
       "               datetime.datetime(2018, 10, 8, 11, 54, 45, 192640))]),\n",
       " OrderedDict([('subscription_title', 'Real Time with Bill Maher'),\n",
       "              ('subscription_channel_id', 'UCy6kyFxaMqGtpE3pQTflK8A'),\n",
       "              ('subscription_kind', 'youtube#channel'),\n",
       "              ('subscription_publish_date',\n",
       "               datetime.datetime(2014, 12, 11, 18, 55, 41)),\n",
       "              ('collection_date',\n",
       "               datetime.datetime(2018, 10, 8, 11, 54, 45, 192640))])]"
      ]
     },
     "execution_count": 39,
     "metadata": {},
     "output_type": "execute_result"
    }
   ],
   "source": [
    "yt.get_subscriptions(channel_id)[:2]"
   ]
  },
  {
   "cell_type": "markdown",
   "metadata": {},
   "source": [
    "You can convert the `channel_id` into a playlist id to get all the videos ever posted by a channel"
   ]
  },
  {
   "cell_type": "code",
   "execution_count": 34,
   "metadata": {
    "slideshow": {
     "slide_type": "fragment"
    }
   },
   "outputs": [
    {
     "name": "stdout",
     "output_type": "stream",
     "text": [
      "UU3XTzVzaHQEd30rQbuvCtTQ\n"
     ]
    }
   ],
   "source": [
    "playlist_id = get_upload_playlist_id(channel_id)\n",
    "print(uploads_playlist)"
   ]
  },
  {
   "cell_type": "markdown",
   "metadata": {},
   "source": [
    "You can now get the videos from this `playlist_id`"
   ]
  },
  {
   "cell_type": "code",
   "execution_count": 37,
   "metadata": {},
   "outputs": [
    {
     "data": {
      "text/plain": [
       "[OrderedDict([('publish_date', datetime.datetime(2018, 10, 8, 6, 30)),\n",
       "              ('video_id', 'FsZ3p9gOkpY'),\n",
       "              ('channel_id', 'UC3XTzVzaHQEd30rQbuvCtTQ'),\n",
       "              ('collection_date',\n",
       "               datetime.datetime(2018, 10, 8, 11, 53, 51, 246426))]),\n",
       " OrderedDict([('publish_date', datetime.datetime(2018, 10, 1, 6, 30, 1)),\n",
       "              ('video_id', 'opi8X9hQ7q8'),\n",
       "              ('channel_id', 'UC3XTzVzaHQEd30rQbuvCtTQ'),\n",
       "              ('collection_date',\n",
       "               datetime.datetime(2018, 10, 8, 11, 53, 51, 246426))]),\n",
       " OrderedDict([('publish_date', datetime.datetime(2018, 9, 24, 6, 30)),\n",
       "              ('video_id', 'OjPYmEZxACM'),\n",
       "              ('channel_id', 'UC3XTzVzaHQEd30rQbuvCtTQ'),\n",
       "              ('collection_date',\n",
       "               datetime.datetime(2018, 10, 8, 11, 53, 51, 246426))]),\n",
       " OrderedDict([('publish_date', datetime.datetime(2018, 9, 10, 6, 30, 2)),\n",
       "              ('video_id', 'NpPyLcQ2vdI'),\n",
       "              ('channel_id', 'UC3XTzVzaHQEd30rQbuvCtTQ'),\n",
       "              ('collection_date',\n",
       "               datetime.datetime(2018, 10, 8, 11, 53, 51, 246426))]),\n",
       " OrderedDict([('publish_date', datetime.datetime(2018, 8, 27, 3, 0)),\n",
       "              ('video_id', '2nXYbGmF3_Q'),\n",
       "              ('channel_id', 'UC3XTzVzaHQEd30rQbuvCtTQ'),\n",
       "              ('collection_date',\n",
       "               datetime.datetime(2018, 10, 8, 11, 53, 51, 246426))])]"
      ]
     },
     "execution_count": 37,
     "metadata": {},
     "output_type": "execute_result"
    }
   ],
   "source": [
    "videos = yt.get_videos_from_playlist_id(playlist_id)\n",
    "videos[:5]"
   ]
  },
  {
   "cell_type": "code",
   "execution_count": null,
   "metadata": {},
   "outputs": [],
   "source": []
  }
 ],
 "metadata": {
  "celltoolbar": "Slideshow",
  "kernelspec": {
   "display_name": "Python 3",
   "language": "python",
   "name": "python3"
  },
  "language_info": {
   "codemirror_mode": {
    "name": "ipython",
    "version": 3
   },
   "file_extension": ".py",
   "mimetype": "text/x-python",
   "name": "python",
   "nbconvert_exporter": "python",
   "pygments_lexer": "ipython3",
   "version": "3.6.5"
  }
 },
 "nbformat": 4,
 "nbformat_minor": 2
}
